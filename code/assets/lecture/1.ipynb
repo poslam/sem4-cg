{
 "cells": [
  {
   "cell_type": "markdown",
   "metadata": {},
   "source": [
    "# Лекция 1. Введение в Python"
   ]
  },
  {
   "cell_type": "markdown",
   "metadata": {},
   "source": [
    "### Просто текст из интернета"
   ]
  },
  {
   "cell_type": "markdown",
   "metadata": {},
   "source": [
    "Python(в русском языке распространено название пито́н) — высокоуровневый язык программирования общего назначения, ориентированный на повышение производительности разработчика и читаемости кода. Синтаксис ядра Python минималистичен. В то же время стандартная библиотека включает большой объём полезных функций."
   ]
  },
  {
   "cell_type": "markdown",
   "metadata": {},
   "source": [
    "#### Некоторые возможности:\n",
    "* Работа с xml/html файлами\n",
    "* Работа с http запросами\n",
    "* GUI (графический интерфейс)\n",
    "* Создание веб-сценариев\n",
    "* Работа с FTP\n",
    "* Работа с изображениями, аудио и видео файлами\n",
    "* Робототехника\n",
    "* Программирование математических и научных вычислений"
   ]
  },
  {
   "cell_type": "markdown",
   "metadata": {},
   "source": [
    "### Установка"
   ]
  },
  {
   "cell_type": "markdown",
   "metadata": {},
   "source": [
    "Скачивать python можно с официального сайта https://www.python.org/downloads/. Скачать рекомендую последнюю версию (на данный момент Python 3.8.1).\n",
    "\n",
    "При установке на Windows нужно поставить галочку Add to PATH. Это даст возможность запускать питон и дополнительные инструменты из командной строки.\n",
    "\n",
    "На Linux и MacOS питон уже установлен. Но желательно проверить версию и обновить в случае необходимости."
   ]
  },
  {
   "cell_type": "markdown",
   "metadata": {},
   "source": [
    "### PIP"
   ]
  },
  {
   "cell_type": "markdown",
   "metadata": {},
   "source": [
    "**PIP** — система управления пакетами, которая используется для установки и управления программными пакетами, написанными на Python. Огромное количество пакетов можно найти в Python Package Index (PyPI, https://pypi.org/).\n",
    "\n",
    "##### Основные команды:\n",
    "* pip help - помощь по доступным командам.\n",
    "* **pip install package_name** - установка пакета(ов).\n",
    "* pip uninstall package_name - удаление пакета(ов).\n",
    "* pip list - список установленных пакетов.\n",
    "* pip show package_name - показывает информацию об установленном пакете.\n",
    "* pip search - поиск пакетов по имени.\n",
    "* pip --proxy user:passwd@proxy.server:port - использование с прокси.\n",
    "* pip install -U - обновление пакета(ов).\n",
    "* pip install --force-reinstall - при обновлении, переустановить пакет, даже если он последней версии."
   ]
  },
  {
   "cell_type": "markdown",
   "metadata": {},
   "source": [
    "### Anaconda"
   ]
  },
  {
   "cell_type": "markdown",
   "metadata": {},
   "source": [
    "Anaconda — дистрибутив языков программирования Python и R, включающий набор популярных свободных библиотек, объединённых проблематиками науки о данных и машинного обучения. Основная цель — поставка единым согласованным комплектом наиболее востребованных соответствующим кругом пользователей тематических модулей (таких как NumPy, SciPy, Astropy и других) с разрешением возникающих зависимостей и конфликтов, которые неизбежны при одиночной установке. По состоянию на 2019 год содержит более 1,5 тыс. модулей.\n",
    "\n",
    "Основная особенность дистрибутива — оригинальный менеджер разрешения зависимостей conda с графическим интерфейсом Anaconda Navigator, что позволяет отказаться от стандартных менеджеров пакетов (таких, как pip для Python). Дистрибутив скачивается единожды, и вся последующая конфигурация, в том числе установка дополнительных модулей, может проводится в офлайне. Кроме того, обеспечивается возможность ведения нескольких изолированных сред с раздельным разрешением версионных зависимостей в каждой."
   ]
  },
  {
   "cell_type": "markdown",
   "metadata": {},
   "source": [
    "### Использование"
   ]
  },
  {
   "cell_type": "markdown",
   "metadata": {},
   "source": [
    "Python использует файлы с расширением .py\n",
    "\n",
    "В самом простом случае, чтобы запустить python-приложение из консоли нужно перейти в директорию, в которой расположен запускаемый файл и набрать 'python filename.py', где filenam -- имя запускаемого файла.\n",
    "\n",
    "Также можно запускать python-файлы в среде разработки, которая поставляется вместе с пакетом python (IDLE). \n",
    "\n",
    "Кроме того часто используются текстовые редакторы (Sublime, VS Code), в которых можно выполнить набранный файл. Или использовать IDE (Pycharm, Wing, Visual Studio)\n",
    "\n",
    "Лицензию на PyCharm можно получить по студенческой почте (https://www.jetbrains.com/ru-ru/student/)"
   ]
  },
  {
   "cell_type": "markdown",
   "metadata": {},
   "source": [
    "### Вывод информации"
   ]
  },
  {
   "cell_type": "code",
   "execution_count": 2,
   "metadata": {},
   "outputs": [
    {
     "name": "stdout",
     "output_type": "stream",
     "text": [
      "Привет!\n"
     ]
    }
   ],
   "source": [
    "print('Привет!')"
   ]
  },
  {
   "cell_type": "code",
   "execution_count": 3,
   "metadata": {},
   "outputs": [
    {
     "name": "stdout",
     "output_type": "stream",
     "text": [
      "Привет! Пока!\n"
     ]
    }
   ],
   "source": [
    "print('Привет!', 'Пока!')"
   ]
  },
  {
   "cell_type": "code",
   "execution_count": 4,
   "metadata": {},
   "outputs": [
    {
     "name": "stdout",
     "output_type": "stream",
     "text": [
      "Привет!Пока!\n"
     ]
    }
   ],
   "source": [
    "print('Привет!', 'Пока!', sep='')"
   ]
  },
  {
   "cell_type": "code",
   "execution_count": 6,
   "metadata": {},
   "outputs": [
    {
     "name": "stdout",
     "output_type": "stream",
     "text": [
      "Привет!*Пока!*123\n"
     ]
    }
   ],
   "source": [
    "print('Привет!', 'Пока!', '123', sep='*')"
   ]
  },
  {
   "cell_type": "code",
   "execution_count": 7,
   "metadata": {},
   "outputs": [
    {
     "name": "stdout",
     "output_type": "stream",
     "text": [
      "Привет!\n",
      "Пока!\n"
     ]
    }
   ],
   "source": [
    "print('Привет!')\n",
    "print('Пока!')"
   ]
  },
  {
   "cell_type": "code",
   "execution_count": 8,
   "metadata": {},
   "outputs": [
    {
     "name": "stdout",
     "output_type": "stream",
     "text": [
      "Привет! Пока!\n"
     ]
    }
   ],
   "source": [
    "print('Привет!', end=' ')\n",
    "print('Пока!')"
   ]
  },
  {
   "cell_type": "markdown",
   "metadata": {},
   "source": [
    "### Ввод информации"
   ]
  },
  {
   "cell_type": "code",
   "execution_count": 10,
   "metadata": {},
   "outputs": [
    {
     "name": "stdout",
     "output_type": "stream",
     "text": [
      "Введите имя\n",
      "1\n"
     ]
    }
   ],
   "source": [
    "print('Введите имя')\n",
    "name = input()"
   ]
  },
  {
   "cell_type": "code",
   "execution_count": 11,
   "metadata": {},
   "outputs": [
    {
     "name": "stdout",
     "output_type": "stream",
     "text": [
      "Введите имя:123\n"
     ]
    }
   ],
   "source": [
    "name = input('Введите имя:')"
   ]
  },
  {
   "cell_type": "markdown",
   "metadata": {},
   "source": [
    "### **Типы данных**"
   ]
  },
  {
   "cell_type": "markdown",
   "metadata": {},
   "source": [
    "* Неизменяемые\n",
    "    * int\n",
    "    * float\n",
    "    * str\n",
    "    * tuple\n",
    "    * frozenset\n",
    "    \n",
    "* Изменяемые\n",
    "    * list\n",
    "    * set\n",
    "    * dict"
   ]
  },
  {
   "cell_type": "markdown",
   "metadata": {},
   "source": [
    "### **Числовые типы (int, float)**"
   ]
  },
  {
   "cell_type": "code",
   "execution_count": 12,
   "metadata": {},
   "outputs": [
    {
     "name": "stdout",
     "output_type": "stream",
     "text": [
      "1 -1 10 <class 'int'>\n"
     ]
    }
   ],
   "source": [
    "print(1, -1, int('10'), type(1))"
   ]
  },
  {
   "cell_type": "code",
   "execution_count": 13,
   "metadata": {},
   "outputs": [
    {
     "name": "stdout",
     "output_type": "stream",
     "text": [
      "1.1 -1.1 10.0 <class 'float'>\n"
     ]
    }
   ],
   "source": [
    "print(1.1, -1.1, float('10'), type(1.1))"
   ]
  },
  {
   "cell_type": "markdown",
   "metadata": {},
   "source": [
    "##### **Операции над числовыми типами данных**"
   ]
  },
  {
   "cell_type": "code",
   "execution_count": null,
   "metadata": {},
   "outputs": [],
   "source": [
    "print(3 + 2)\n",
    "print(3 - 2)\n",
    "print(3 * 2)\n",
    "print(3 / 2) # вещественное деление\n",
    "print(3 // 2) # целочисленное деление\n",
    "print(3 % 2) # остаток от деления\n",
    "print(3 ** 2) # возведение в степень\n",
    "a = 1\n",
    "a += 1 # эквивалентно a = a + 1"
   ]
  },
  {
   "cell_type": "markdown",
   "metadata": {},
   "source": [
    "##### **Битовые операции**"
   ]
  },
  {
   "cell_type": "code",
   "execution_count": null,
   "metadata": {},
   "outputs": [],
   "source": [
    "print(128 | 32)\n",
    "print(128 & 32)\n",
    "print(128 ^ 32)\n",
    "print(128 << 1)\n",
    "print(128 >> 1)\n",
    "print(~5)"
   ]
  },
  {
   "cell_type": "markdown",
   "metadata": {},
   "source": [
    "##### **Системы счисления**"
   ]
  },
  {
   "cell_type": "code",
   "execution_count": 14,
   "metadata": {},
   "outputs": [
    {
     "name": "stdout",
     "output_type": "stream",
     "text": [
      "255\n",
      "0b11111111\n",
      "0xff\n",
      "0o377\n"
     ]
    }
   ],
   "source": [
    "print(int('ff', 16)) #преобразование к целому числу в десятичной системе счисления. По умолчанию система счисления десятичная, но можно задать любое основание от 2 до 36 включительно.\n",
    "print(bin(255)) # преобразование целого числа в двоичную строку.\n",
    "print(hex(255)) # преобразование целого числа в шестнадцатеричную строку.\n",
    "print(oct(255)) # преобразование целого числа в восьмеричную строку."
   ]
  },
  {
   "cell_type": "markdown",
   "metadata": {},
   "source": [
    "### **Переменные**"
   ]
  },
  {
   "cell_type": "code",
   "execution_count": 15,
   "metadata": {},
   "outputs": [],
   "source": [
    "a = 1\n",
    "b = 1.0"
   ]
  },
  {
   "cell_type": "code",
   "execution_count": 16,
   "metadata": {},
   "outputs": [
    {
     "name": "stdout",
     "output_type": "stream",
     "text": [
      "<class 'int'> <class 'float'>\n"
     ]
    }
   ],
   "source": [
    "# type() - встроенная функция для определения типа переменной\n",
    "print(type(a), type(b))"
   ]
  },
  {
   "cell_type": "code",
   "execution_count": 17,
   "metadata": {
    "scrolled": true
   },
   "outputs": [
    {
     "name": "stdout",
     "output_type": "stream",
     "text": [
      "4304845856 4540465728\n"
     ]
    }
   ],
   "source": [
    "# id() - встроенная функция для определения идентификатора объекта в памяти, на который указывает переменная\n",
    "\n",
    "# Идентификатор объекта - уникальное целое число, которое остаётся уникальным в течении времени жизни объекта\n",
    "print(id(a), id(b))"
   ]
  },
  {
   "cell_type": "code",
   "execution_count": 18,
   "metadata": {},
   "outputs": [
    {
     "name": "stdout",
     "output_type": "stream",
     "text": [
      "1 <class 'int'> 4304845856\n",
      "1 <class 'int'> 4304845856\n"
     ]
    }
   ],
   "source": [
    "b = a\n",
    "print(a, type(a), id(a))\n",
    "print(b, type(b), id(b))"
   ]
  },
  {
   "cell_type": "markdown",
   "metadata": {},
   "source": [
    "### **Логический тип (bool)**"
   ]
  },
  {
   "cell_type": "code",
   "execution_count": 19,
   "metadata": {},
   "outputs": [
    {
     "name": "stdout",
     "output_type": "stream",
     "text": [
      "True False <class 'bool'>\n"
     ]
    }
   ],
   "source": [
    "print(True, False, type(True))"
   ]
  },
  {
   "cell_type": "code",
   "execution_count": 20,
   "metadata": {},
   "outputs": [
    {
     "name": "stdout",
     "output_type": "stream",
     "text": [
      "True\n",
      "True\n",
      "True\n",
      "True\n"
     ]
    }
   ],
   "source": [
    "# функция bool приводит все значения, что не ноль в значение True\n",
    "print(bool('0'))\n",
    "print(bool(1))\n",
    "print(bool(0.1))\n",
    "print(bool([1, 0]))"
   ]
  },
  {
   "cell_type": "code",
   "execution_count": 21,
   "metadata": {},
   "outputs": [
    {
     "name": "stdout",
     "output_type": "stream",
     "text": [
      "False\n",
      "False\n",
      "False\n",
      "False\n",
      "False\n"
     ]
    }
   ],
   "source": [
    "# все 'нулевые' значения переводит в False\n",
    "print(bool(''))\n",
    "print(bool(0))\n",
    "print(bool(0.0))\n",
    "print(bool([])) \n",
    "print(bool(None)) #"
   ]
  },
  {
   "cell_type": "markdown",
   "metadata": {},
   "source": [
    "##### **Операции над логичискими типами данных**"
   ]
  },
  {
   "cell_type": "code",
   "execution_count": 22,
   "metadata": {},
   "outputs": [
    {
     "name": "stdout",
     "output_type": "stream",
     "text": [
      "True False True\n"
     ]
    }
   ],
   "source": [
    "print(True or False, True and False, not False)"
   ]
  },
  {
   "cell_type": "code",
   "execution_count": 23,
   "metadata": {},
   "outputs": [
    {
     "name": "stdout",
     "output_type": "stream",
     "text": [
      "a\tb\ta or b\ta and b\n",
      "0\t0\t0\t0\n",
      "0\t1\t1\t0\n",
      "1\t0\t1\t0\n",
      "1\t1\t1\t1\n"
     ]
    }
   ],
   "source": [
    "print('a', 'b', 'a or b', 'a and b', sep='\\t')\n",
    "for a in [0, 1]:\n",
    "    for b in [0, 1]:\n",
    "        print(a, b, a or b, a and b, sep='\\t')"
   ]
  },
  {
   "cell_type": "markdown",
   "metadata": {},
   "source": [
    "##### **Операции сравнения**"
   ]
  },
  {
   "cell_type": "code",
   "execution_count": null,
   "metadata": {},
   "outputs": [],
   "source": [
    "print(3 > 2)\n",
    "print(3 < 2)\n",
    "print(3 >= 2)\n",
    "print(3 <= 2)\n",
    "print(3 == 2)\n",
    "print(3 != 2)\n",
    "\n",
    "print()\n",
    "print(1 < 2 and 2 < 3)\n",
    "print(1 < 2 or 2 < 3)\n",
    "\n",
    "print()\n",
    "print(1 < 2 < 3) # == 1 < 2 and 2 < 3\n",
    "print(1 < 4 > 3) # == 1 < 4 and 4 > 3"
   ]
  },
  {
   "cell_type": "markdown",
   "metadata": {},
   "source": [
    "### **Строковые типы (str)**"
   ]
  },
  {
   "cell_type": "code",
   "execution_count": 24,
   "metadata": {
    "scrolled": true
   },
   "outputs": [
    {
     "name": "stdout",
     "output_type": "stream",
     "text": [
      "hello\n",
      "hello\n",
      "It's\n",
      "hello\tworld\n",
      "hello\n",
      "world\n",
      "hello\\nworld\n",
      "\n",
      "    hello\n",
      "    world\n",
      "\n"
     ]
    }
   ],
   "source": [
    "print('hello')\n",
    "print(\"hello\") # но нельзя комбинировать\n",
    "print(\"It's\")\n",
    "print('hello\\tworld') # табуляция\n",
    "print('hello\\nworld') # перевод строки\n",
    "print(r'hello\\nworld') # \"сырые\" строки игнорируют экранирование\n",
    "print('''\n",
    "    hello\n",
    "    world\n",
    "''')"
   ]
  },
  {
   "cell_type": "code",
   "execution_count": 27,
   "metadata": {},
   "outputs": [
    {
     "name": "stdout",
     "output_type": "stream",
     "text": [
      "hello, Иван\n",
      "pi = 3.1416\n",
      "255 in bin = 11111111\n"
     ]
    }
   ],
   "source": [
    "# f-строки\n",
    "name = 'Иван'\n",
    "print(f'hello, {name}')\n",
    "\n",
    "pi = 3.14159265359\n",
    "print(f'pi = {pi:.4f}')\n",
    "\n",
    "print(f'255 in bin = {255:b}')"
   ]
  },
  {
   "cell_type": "markdown",
   "metadata": {},
   "source": [
    "#### **Операции над строками**"
   ]
  },
  {
   "cell_type": "code",
   "execution_count": 29,
   "metadata": {},
   "outputs": [
    {
     "name": "stdout",
     "output_type": "stream",
     "text": [
      "23\n",
      "234234234\n",
      "3\n",
      "65\n",
      "A\n"
     ]
    }
   ],
   "source": [
    "print('2' + '3') #сложение\n",
    "print('234' * 3) # дублирование\n",
    "print(len('123')) # длина строки\n",
    "print(ord('A'))\n",
    "print(chr(65))"
   ]
  },
  {
   "cell_type": "markdown",
   "metadata": {},
   "source": [
    "#### **Индексация и срезы**"
   ]
  },
  {
   "cell_type": "code",
   "execution_count": 30,
   "metadata": {},
   "outputs": [
    {
     "name": "stdout",
     "output_type": "stream",
     "text": [
      "-5\t-4\t-3\t-2\t-1\n",
      "h\te\tl\tl\to\n",
      "0\t1\t2\t3\t4\n"
     ]
    }
   ],
   "source": [
    "a = 'hello'\n",
    "print(*range(-len(a), 0), sep='\\t') # \"обратная\" индексация\n",
    "print(*a, sep='\\t')\n",
    "print(*range(0, len(a)), sep='\\t') # \"прямая\" индексация"
   ]
  },
  {
   "cell_type": "code",
   "execution_count": 31,
   "metadata": {
    "scrolled": false
   },
   "outputs": [
    {
     "name": "stdout",
     "output_type": "stream",
     "text": [
      "hell\n",
      "he\n",
      "hello\n",
      "hell\n",
      "ello\n",
      "hlo\n",
      "olleh\n",
      "hello\n"
     ]
    }
   ],
   "source": [
    "a = 'hello'\n",
    "# [x: y: z], где\n",
    "# x - начало подстроки (включительно), \n",
    "# y - конец подстроки (не включительно), \n",
    "# z - шаг (может быть отрицательным)\n",
    "print(a[0:4])\n",
    "print(a[0:-3]) # можно комбинировать положительные индексы с отрицательными\n",
    "print(a[0:len(a)])\n",
    "print(a[:4]) \n",
    "print(a[1:])\n",
    "print(a[::2])\n",
    "print(a[::-1]) # переворот строки\n",
    "print(a[0:1000]) # можно выходить за границы"
   ]
  },
  {
   "cell_type": "markdown",
   "metadata": {},
   "source": [
    "тренировка на срезы \n",
    "https://learningapps.org/watch?v=p0o1bkgsa17"
   ]
  },
  {
   "cell_type": "markdown",
   "metadata": {},
   "source": [
    "#### **Цепочки вызовов**"
   ]
  },
  {
   "cell_type": "code",
   "execution_count": null,
   "metadata": {},
   "outputs": [],
   "source": [
    "s = 'hello'\n",
    "s = s + ' world'"
   ]
  },
  {
   "cell_type": "code",
   "execution_count": 32,
   "metadata": {},
   "outputs": [
    {
     "name": "stdout",
     "output_type": "stream",
     "text": [
      "том\n",
      "Дом\n",
      "\n"
     ]
    }
   ],
   "source": [
    "# удобно работать со строкой в одну строку\n",
    "s = 'Дом\\n'\n",
    "print(s.strip().lower().replace('д', 'т'))\n",
    "print(s)"
   ]
  },
  {
   "cell_type": "markdown",
   "metadata": {},
   "source": [
    "#### **Основные методы**"
   ]
  },
  {
   "cell_type": "code",
   "execution_count": 33,
   "metadata": {},
   "outputs": [
    {
     "name": "stdout",
     "output_type": "stream",
     "text": [
      "2\n",
      "3\n",
      "2\n",
      "2\n"
     ]
    }
   ],
   "source": [
    "a = 'hello'\n",
    "print(a.find('l')) # s.find(str, [start],[end])\n",
    "print(a.rfind('l')) # ищет справа, -1 если не нашел\n",
    "print(a.index('l')) # поиск подстроки, ValueError если не нашел\n",
    "print(a.count('l')) # поиск кол-ва эллементов"
   ]
  },
  {
   "cell_type": "markdown",
   "metadata": {},
   "source": [
    "### **Множество (set)**"
   ]
  },
  {
   "cell_type": "markdown",
   "metadata": {},
   "source": [
    "Множество  - коллекция, которая может содержать не повторяющиеся, не упорядоченные элементы разных, но не изменяемых типов типов. Порядок элементов выбирается случайным образом и изменяется каждый раз при изменении множества."
   ]
  },
  {
   "cell_type": "code",
   "execution_count": 42,
   "metadata": {},
   "outputs": [],
   "source": [
    "# инициализация\n",
    "a = set() # пустое множество"
   ]
  },
  {
   "cell_type": "code",
   "execution_count": 43,
   "metadata": {},
   "outputs": [],
   "source": [
    "# добавление\n",
    "a.add(1)\n",
    "a.add(2)\n",
    "a.add('12')\n",
    "# удаление\n",
    "a.pop() # удаление и возвращение случайного элемента\n",
    "# a.discard(1) # удаление указанного элемента, ошибки нет если такого элемента нет\n",
    "a.remove(1) # удаление указанного элемента, KeyError если такого элемента нет"
   ]
  },
  {
   "cell_type": "code",
   "execution_count": 44,
   "metadata": {},
   "outputs": [
    {
     "name": "stdout",
     "output_type": "stream",
     "text": [
      "1\n",
      "{2}\n"
     ]
    }
   ],
   "source": [
    "# a.clear() # отчистка множества\n",
    "a.copy() # копия множества\n",
    "print(len(a))\n",
    "print(a)"
   ]
  },
  {
   "cell_type": "markdown",
   "metadata": {},
   "source": [
    "#### **Операции над множествами**"
   ]
  },
  {
   "attachments": {
    "image.png": {
     "image/png": "[encoded data removed]"
    }
   },
   "cell_type": "markdown",
   "metadata": {},
   "source": [
    "##### **Объединение**\n",
    "![image.png](attachment:image.png)"
   ]
  },
  {
   "cell_type": "code",
   "execution_count": null,
   "metadata": {},
   "outputs": [],
   "source": [
    "A = {1, 2, 3}\n",
    "B = {2, 3, 4}\n",
    "A | B # A.union(B)"
   ]
  },
  {
   "attachments": {
    "image.png": {
     "image/png": "[encoded data removed]"
    }
   },
   "cell_type": "markdown",
   "metadata": {},
   "source": [
    "##### **Пересечение**\n",
    "![image.png](attachment:image.png)"
   ]
  },
  {
   "cell_type": "code",
   "execution_count": null,
   "metadata": {},
   "outputs": [],
   "source": [
    "A = {1, 2, 3}\n",
    "B = {2, 3, 4}\n",
    "A & B # A.intersection(B)"
   ]
  },
  {
   "attachments": {
    "image.png": {
     "image/png": "[encoded data removed]"
    }
   },
   "cell_type": "markdown",
   "metadata": {},
   "source": [
    "##### **Разность**\n",
    "![image.png](attachment:image.png)"
   ]
  },
  {
   "cell_type": "code",
   "execution_count": 46,
   "metadata": {},
   "outputs": [
    {
     "name": "stdout",
     "output_type": "stream",
     "text": [
      "{1}\n",
      "{4}\n"
     ]
    }
   ],
   "source": [
    "A = {1, 2, 3}\n",
    "B = {2, 3, 4}\n",
    "print(A - B) # A.difference(B)\n",
    "print(B - A)"
   ]
  },
  {
   "attachments": {
    "image.png": {
     "image/png": "[encoded data removed]"
    }
   },
   "cell_type": "markdown",
   "metadata": {},
   "source": [
    "##### **Симметрическая разность**\n",
    "![image.png](attachment:image.png)"
   ]
  },
  {
   "cell_type": "code",
   "execution_count": null,
   "metadata": {
    "scrolled": true
   },
   "outputs": [],
   "source": [
    "A = {1, 2, 3}\n",
    "B = {2, 3, 4}\n",
    "A ^ B # A.symmetric_difference(B)"
   ]
  },
  {
   "cell_type": "markdown",
   "metadata": {},
   "source": [
    "#### **Сравнение множеств**"
   ]
  },
  {
   "cell_type": "code",
   "execution_count": 47,
   "metadata": {
    "scrolled": true
   },
   "outputs": [
    {
     "data": {
      "text/plain": [
       "False"
      ]
     },
     "execution_count": 47,
     "metadata": {},
     "output_type": "execute_result"
    }
   ],
   "source": [
    "A = {1, 2, 3}\n",
    "B = {2, 3, 4}\n",
    "A == B"
   ]
  },
  {
   "cell_type": "code",
   "execution_count": 48,
   "metadata": {
    "scrolled": true
   },
   "outputs": [
    {
     "name": "stdout",
     "output_type": "stream",
     "text": [
      "False\n",
      "True\n",
      "False\n",
      "True\n"
     ]
    }
   ],
   "source": [
    "# Подмножество и надмножество\n",
    "A = {1, 2, 3}\n",
    "B = {1, 2, 3}\n",
    "print(A > B)\n",
    "print(A >= B)\n",
    "print(A < B)\n",
    "print(A <= B)"
   ]
  },
  {
   "cell_type": "markdown",
   "metadata": {},
   "source": [
    "#### **Frozenset**\n",
    "Единственное отличие set от frozenset заключается в том, что set - изменяемый тип данных, а frozenset - нет."
   ]
  },
  {
   "cell_type": "code",
   "execution_count": null,
   "metadata": {},
   "outputs": [],
   "source": [
    "#  Инициализация\n",
    "a = frozenset()"
   ]
  },
  {
   "cell_type": "markdown",
   "metadata": {},
   "source": [
    "### **Списки (list)**"
   ]
  },
  {
   "cell_type": "markdown",
   "metadata": {},
   "source": [
    "Списки - упорядоченные изменяемые коллекции объектов произвольных типов. \n",
    "\n",
    "Основные особенности:\n",
    "* Список хранит несколько элементов под одним именем\n",
    "* Элементы списка упорядочены и проиндексированы, доступна операция среза\n",
    "* Элементы списка можно изменять\n",
    "* Элементами списка могут быть значения любого типа: целые и действительные числа, строки и даже другие списки"
   ]
  },
  {
   "cell_type": "code",
   "execution_count": 49,
   "metadata": {},
   "outputs": [],
   "source": [
    "# Инициализация\n",
    "a = [] \n",
    "a = list() # в этих случах имеем пустой список"
   ]
  },
  {
   "cell_type": "code",
   "execution_count": 50,
   "metadata": {},
   "outputs": [
    {
     "data": {
      "text/plain": [
       "['hello', 'world', 0]"
      ]
     },
     "execution_count": 50,
     "metadata": {},
     "output_type": "execute_result"
    }
   ],
   "source": [
    "# Можно сразу положить то, что хотим хранить\n",
    "a = ['hello', 'world']\n",
    "# Разных типов\n",
    "a = ['hello', 'world', 0]\n",
    "a"
   ]
  },
  {
   "cell_type": "code",
   "execution_count": 51,
   "metadata": {},
   "outputs": [
    {
     "name": "stdout",
     "output_type": "stream",
     "text": [
      "['h', 'e', 'l', 'l', 'o']\n",
      "True\n",
      "False\n"
     ]
    }
   ],
   "source": [
    "# К списку можно привести любой итерируемый объект\n",
    "a = list('hello')\n",
    "print(a)\n",
    "# проверка на наличие элемента\n",
    "print('h' in a)\n",
    "print(1 in a)"
   ]
  },
  {
   "cell_type": "code",
   "execution_count": null,
   "metadata": {
    "scrolled": true
   },
   "outputs": [],
   "source": [
    "# узнать длину списка\n",
    "print(len(a))\n",
    "# нахождение минимального элемента\n",
    "print(min(a))\n",
    "# нахождение максимального элемента\n",
    "print(max(a))"
   ]
  },
  {
   "cell_type": "code",
   "execution_count": 55,
   "metadata": {},
   "outputs": [
    {
     "ename": "IndexError",
     "evalue": "list assignment index out of range",
     "output_type": "error",
     "traceback": [
      "\u001b[0;31m---------------------------------------------------------------------------\u001b[0m",
      "\u001b[0;31mIndexError\u001b[0m                                Traceback (most recent call last)",
      "\u001b[0;32m<ipython-input-55-00c1fa664ca9>\u001b[0m in \u001b[0;36m<module>\u001b[0;34m\u001b[0m\n\u001b[1;32m      7\u001b[0m \u001b[0;32mdel\u001b[0m \u001b[0ma\u001b[0m\u001b[0;34m[\u001b[0m\u001b[0;36m1\u001b[0m\u001b[0;34m]\u001b[0m\u001b[0;34m\u001b[0m\u001b[0m\n\u001b[1;32m      8\u001b[0m \u001b[0ma\u001b[0m\u001b[0;34m.\u001b[0m\u001b[0mclear\u001b[0m\u001b[0;34m(\u001b[0m\u001b[0;34m)\u001b[0m\u001b[0;34m\u001b[0m\u001b[0m\n\u001b[0;32m----> 9\u001b[0;31m \u001b[0;32mdel\u001b[0m \u001b[0ma\u001b[0m\u001b[0;34m[\u001b[0m\u001b[0;36m1\u001b[0m\u001b[0;34m]\u001b[0m\u001b[0;34m\u001b[0m\u001b[0m\n\u001b[0m\u001b[1;32m     10\u001b[0m \u001b[0;31m# во всех случаях список меняется\u001b[0m\u001b[0;34m\u001b[0m\u001b[0;34m\u001b[0m\u001b[0m\n",
      "\u001b[0;31mIndexError\u001b[0m: list assignment index out of range"
     ]
    }
   ],
   "source": [
    "# Использование списка как очереди, стека, дека\n",
    "a = list('hello')\n",
    "a.append(1)\n",
    "a.insert(0, 2) # insert(index, element)\n",
    "a.pop() # удаление элемента с конца\n",
    "a.pop(1) # удаление элемента по индексу\n",
    "del a[1]\n",
    "a.clear()\n",
    "del a[1]\n",
    "# во всех случаях список меняется"
   ]
  },
  {
   "cell_type": "code",
   "execution_count": 56,
   "metadata": {},
   "outputs": [
    {
     "name": "stdout",
     "output_type": "stream",
     "text": [
      "4541664264\n",
      "4541664264\n",
      "4537504520\n"
     ]
    }
   ],
   "source": [
    "# Еще некоторые методы списков\n",
    "a.extend([1, 2, 3]) \n",
    "a.clear()\n",
    "a.copy()\n",
    "print(id(a))\n",
    "a += [1, 2]\n",
    "print(id(a))\n",
    "\n",
    "\n",
    "a = [1, 2] + a\n",
    "print(id(a))\n",
    "\n",
    "\n",
    "# a.remove(x)\n",
    "# a.reverse()\n",
    "# a.sort(reverse=True)"
   ]
  },
  {
   "cell_type": "code",
   "execution_count": 57,
   "metadata": {},
   "outputs": [
    {
     "name": "stdout",
     "output_type": "stream",
     "text": [
      "[1, 2, 3]\n",
      "[1, 2, 1, 2, 1, 2]\n",
      "[0, 0, 0, 0, 0, 0, 0, 0, 0, 0]\n"
     ]
    }
   ],
   "source": [
    "# складывать и умножать\n",
    "print([1] + [2, 3])\n",
    "print([1, 2] * 3) # короткий и удобный способ создавать список из однотипных эллементов\n",
    "print([0] * 10)"
   ]
  },
  {
   "cell_type": "code",
   "execution_count": null,
   "metadata": {
    "scrolled": false
   },
   "outputs": [],
   "source": [
    "# доступ к индексам и срезам\n",
    "print(a[1]) # IndexError если ушел за границу\n",
    "print(a[:4])"
   ]
  },
  {
   "cell_type": "markdown",
   "metadata": {},
   "source": [
    "### **Кортеж (tuple)** "
   ]
  },
  {
   "cell_type": "markdown",
   "metadata": {},
   "source": [
    "tuple обладает тем же набором функций, что и список, но является не изменяемым типом."
   ]
  },
  {
   "cell_type": "code",
   "execution_count": 59,
   "metadata": {},
   "outputs": [
    {
     "data": {
      "text/plain": [
       "1"
      ]
     },
     "execution_count": 59,
     "metadata": {},
     "output_type": "execute_result"
    }
   ],
   "source": [
    "# Инициализация\n",
    "a = tuple()\n",
    "a = (1, 2, 3)\n",
    "a += (1, 2)\n",
    "a = (1) # набор из одного элемента, при инициализации одно элемента необходимо поставить скобку, чтобы интерпретатор не воспринял выражение как обыкновенное скобочное\n",
    "# print(tuple('hello'))\n",
    "a"
   ]
  },
  {
   "cell_type": "code",
   "execution_count": null,
   "metadata": {
    "scrolled": true
   },
   "outputs": [],
   "source": [
    "# Кроме, можно отметить, что кортежи имеют размер меньший, чем списки\n",
    "a = [1, 2, 3, 4, 5]\n",
    "b = (1, 2, 3, 4, 5)\n",
    "print(a.__sizeof__(), b.__sizeof__())"
   ]
  },
  {
   "cell_type": "code",
   "execution_count": 60,
   "metadata": {},
   "outputs": [
    {
     "name": "stdout",
     "output_type": "stream",
     "text": [
      "2.0 1.0\n"
     ]
    }
   ],
   "source": [
    "a, b = 1., 2.\n",
    "a, b = b, a\n",
    "print(a, b)"
   ]
  },
  {
   "cell_type": "markdown",
   "metadata": {},
   "source": [
    "### **Методы split и join**"
   ]
  },
  {
   "cell_type": "markdown",
   "metadata": {},
   "source": [
    "Метод **split** часто используется при работе с данными, полученными с файла/консоли, которые нужно разбить по определенному символу.\n",
    "\n",
    "Метод **join** \"склеивает\" список строк. Соеденителем служит строка, метод которой мы вызываем."
   ]
  },
  {
   "cell_type": "code",
   "execution_count": 62,
   "metadata": {
    "scrolled": false
   },
   "outputs": [
    {
     "name": "stdout",
     "output_type": "stream",
     "text": [
      "['hello', 'world']\n",
      "['hello', 'world']\n",
      "hello world\n"
     ]
    }
   ],
   "source": [
    "print('hello world'.split()) # по умолчанию разбивает по пустым символам (\\n, \\t)\n",
    "print('hello_*world'.split('_*'))\n",
    "print(' '.join(['hello', 'world']))"
   ]
  },
  {
   "cell_type": "markdown",
   "metadata": {},
   "source": [
    "### **Условный оператор**"
   ]
  },
  {
   "cell_type": "code",
   "execution_count": null,
   "metadata": {},
   "outputs": [],
   "source": [
    "if условие:\n",
    "    тело условия в случае, когда выражение = True\n",
    "else:\n",
    "    тело условия в случае, когда выражение = False"
   ]
  },
  {
   "cell_type": "code",
   "execution_count": null,
   "metadata": {},
   "outputs": [],
   "source": [
    "a = 1 if 1 < 2 else 2"
   ]
  },
  {
   "cell_type": "markdown",
   "metadata": {},
   "source": [
    "### **Циклы**"
   ]
  },
  {
   "cell_type": "markdown",
   "metadata": {},
   "source": [
    "#### **Цикл while**"
   ]
  },
  {
   "cell_type": "markdown",
   "metadata": {},
   "source": [
    "```python\n",
    "while условие:\n",
    "    тело цикла\n",
    "```"
   ]
  },
  {
   "cell_type": "code",
   "execution_count": null,
   "metadata": {},
   "outputs": [],
   "source": [
    "a = 0\n",
    "b = 10\n",
    "while a < 10:\n",
    "    a += 1"
   ]
  },
  {
   "cell_type": "markdown",
   "metadata": {},
   "source": [
    "#### **Цикл for**"
   ]
  },
  {
   "cell_type": "markdown",
   "metadata": {},
   "source": [
    "```python\n",
    "for элемент in итерируемый объект:\n",
    "    тело цикла\n",
    "```"
   ]
  },
  {
   "cell_type": "code",
   "execution_count": 64,
   "metadata": {
    "scrolled": true
   },
   "outputs": [
    {
     "name": "stdout",
     "output_type": "stream",
     "text": [
      "0 1 2 3 4 5 6 7 8 9 \n",
      "5 6 7 8 9 \n",
      "1 3 5 7 9 "
     ]
    }
   ],
   "source": [
    "# range(star, stop, step)\n",
    "for i in range(10):\n",
    "    print(i, end=' ')\n",
    "print()\n",
    "\n",
    "for i in range(5, 10):\n",
    "    print(i, end=' ')\n",
    "print()\n",
    "\n",
    "for i in range(1, 10, 2):\n",
    "    print(i, end=' ')"
   ]
  },
  {
   "cell_type": "code",
   "execution_count": 65,
   "metadata": {},
   "outputs": [
    {
     "name": "stdout",
     "output_type": "stream",
     "text": [
      "range(1, 10)\n",
      "[1, 2, 3, 4, 5, 6, 7, 8, 9]\n"
     ]
    }
   ],
   "source": [
    "# range - неплохой способ создать список из последовательности чисел\n",
    "print(range(1, 10))\n",
    "print(list(range(1, 10)))"
   ]
  },
  {
   "cell_type": "code",
   "execution_count": 66,
   "metadata": {},
   "outputs": [
    {
     "name": "stdout",
     "output_type": "stream",
     "text": [
      "h e l l o "
     ]
    }
   ],
   "source": [
    "# перебираем строку\n",
    "for i in 'hello':\n",
    "    print(i, end=' ')"
   ]
  },
  {
   "cell_type": "code",
   "execution_count": 67,
   "metadata": {},
   "outputs": [
    {
     "name": "stdout",
     "output_type": "stream",
     "text": [
      "1 2 3 4 5 "
     ]
    }
   ],
   "source": [
    "# перебираем список\n",
    "for i in [1, 2, 3, 4, 5]:\n",
    "    print(i, end=' ')"
   ]
  },
  {
   "cell_type": "code",
   "execution_count": null,
   "metadata": {},
   "outputs": [],
   "source": []
  },
  {
   "cell_type": "markdown",
   "metadata": {},
   "source": [
    "break - выйти из цикла на текущем моменте\n",
    "continue - начать новую итерацию с текущего момента"
   ]
  },
  {
   "cell_type": "markdown",
   "metadata": {},
   "source": [
    "### **Списочные выражения**"
   ]
  },
  {
   "cell_type": "markdown",
   "metadata": {},
   "source": [
    "Для генерации списков из неповторяющихся элементов существует синтаксическая конструкция, позволяющая создать список в одну строку."
   ]
  },
  {
   "cell_type": "code",
   "execution_count": 68,
   "metadata": {},
   "outputs": [
    {
     "name": "stdout",
     "output_type": "stream",
     "text": [
      "[0, 1, 4, 9, 16, 25, 36, 49, 64, 81]\n"
     ]
    }
   ],
   "source": [
    "# создание списка через цикл\n",
    "squares = []\n",
    "for i in range(10):\n",
    "    squares.append(i ** 2)\n",
    "print(squares)"
   ]
  },
  {
   "cell_type": "code",
   "execution_count": 69,
   "metadata": {},
   "outputs": [
    {
     "name": "stdout",
     "output_type": "stream",
     "text": [
      "[0, 1, 4, 9, 16, 25, 36, 49, 64, 81]\n"
     ]
    }
   ],
   "source": [
    "# создание списка через списочное выражение\n",
    "squares = [i ** 2 for i in range(10)]\n",
    "print(squares)"
   ]
  },
  {
   "cell_type": "code",
   "execution_count": 70,
   "metadata": {},
   "outputs": [
    {
     "name": "stdout",
     "output_type": "stream",
     "text": [
      "[0, 4, 16, 36, 64]\n"
     ]
    }
   ],
   "source": [
    "# добавим условие\n",
    "squares = []\n",
    "for i in range(10):\n",
    "    if i % 2 == 0:\n",
    "        squares.append(i ** 2)\n",
    "print(squares)"
   ]
  },
  {
   "cell_type": "code",
   "execution_count": 71,
   "metadata": {
    "scrolled": true
   },
   "outputs": [
    {
     "name": "stdout",
     "output_type": "stream",
     "text": [
      "[0, 4, 16, 36, 64]\n"
     ]
    }
   ],
   "source": [
    "squares = [i ** 2 for i in range(0, 10, 2)]\n",
    "print(squares) # как обойтись без условия?"
   ]
  },
  {
   "cell_type": "code",
   "execution_count": 72,
   "metadata": {},
   "outputs": [
    {
     "name": "stdout",
     "output_type": "stream",
     "text": [
      "1 2 3 4\n",
      "[1, 2, 3, 4]\n"
     ]
    }
   ],
   "source": [
    "# часто списочные выражения при считывании данных\n",
    "data = [int(i) for i in input().split()]\n",
    "print(data)"
   ]
  },
  {
   "cell_type": "code",
   "execution_count": 73,
   "metadata": {},
   "outputs": [
    {
     "name": "stdout",
     "output_type": "stream",
     "text": [
      "1, 4, 9, 16, 25\n"
     ]
    }
   ],
   "source": [
    "# либо в методе join\n",
    "data = [1, 2, 3, 4, 5]\n",
    "print(', '.join(str(i ** 2) for i in data))"
   ]
  },
  {
   "cell_type": "code",
   "execution_count": 74,
   "metadata": {},
   "outputs": [
    {
     "name": "stdout",
     "output_type": "stream",
     "text": [
      "{1, 2, 3}\n",
      "{0, 1, 2, 3, 4, 5, 6, 7, 8, 9}\n",
      "<class 'set'>\n"
     ]
    }
   ],
   "source": [
    "# кроме списков можно создавать кортежи, множеста, словари\n",
    "a = {1, 2, 3, 1}\n",
    "print(a)\n",
    "a = {i for i in range(10)}\n",
    "print(a)\n",
    "print(type(a))"
   ]
  },
  {
   "cell_type": "markdown",
   "metadata": {},
   "source": [
    "### **Вложенные списки**"
   ]
  },
  {
   "cell_type": "code",
   "execution_count": 81,
   "metadata": {},
   "outputs": [
    {
     "data": {
      "text/plain": [
       "[[10, 1], [10, 1], [10, 1]]"
      ]
     },
     "execution_count": 81,
     "metadata": {},
     "output_type": "execute_result"
    }
   ],
   "source": [
    "a = [[1] * 2] * 3 # ошибка\n",
    "# a[0][1]\n",
    "a[1][0] = 10\n",
    "a"
   ]
  },
  {
   "cell_type": "code",
   "execution_count": null,
   "metadata": {},
   "outputs": [],
   "source": [
    "a = [[1, 2, 3], [4, 5, 6]]"
   ]
  },
  {
   "cell_type": "code",
   "execution_count": 82,
   "metadata": {},
   "outputs": [
    {
     "name": "stdout",
     "output_type": "stream",
     "text": [
      "1 2 3\n",
      "4 5 6\n",
      "7 8\n",
      "[[1, 2, 3], [4, 5, 6], [7, 8]]\n"
     ]
    }
   ],
   "source": [
    "table = []\n",
    "for i in range(3):\n",
    "    row = [int(el) for el in input().split()]\n",
    "    table.append(row) # что полуится если написать extend?\n",
    "print(table)"
   ]
  },
  {
   "cell_type": "code",
   "execution_count": 83,
   "metadata": {},
   "outputs": [
    {
     "name": "stdout",
     "output_type": "stream",
     "text": [
      "1 2 3\n",
      "1 \n",
      "1\n",
      "[[1, 2, 3], [1], [1]]\n"
     ]
    }
   ],
   "source": [
    "# создание вложенных списков через списочные выражения\n",
    "table = [ [int(el) for el in input().split()] for i in range(3)]\n",
    "print(table)"
   ]
  },
  {
   "cell_type": "code",
   "execution_count": 85,
   "metadata": {},
   "outputs": [
    {
     "name": "stdout",
     "output_type": "stream",
     "text": [
      "0\n",
      "1\n",
      "2\n",
      "3\n",
      "4\n",
      "5\n",
      "6\n",
      "7\n",
      "8\n",
      "9\n"
     ]
    }
   ],
   "source": [
    "# создание вложенного списка из одинаковых эллементов\n",
    "a = [[0] * 10 for _ in range(10)] \n",
    "print(*a, sep='\\n')"
   ]
  },
  {
   "cell_type": "markdown",
   "metadata": {},
   "source": [
    "### **Задачи**"
   ]
  },
  {
   "cell_type": "markdown",
   "metadata": {},
   "source": [
    "https://informatics.mccme.ru/mod/statements/view3.php?id=11098&chapterid=112149\n",
    "\n",
    "https://informatics.mccme.ru/mod/statements/view3.php?id=11145&chapterid=112227\n",
    "\n",
    "https://informatics.mccme.ru/mod/statements/view3.php?id=11145&chapterid=112212\n",
    "\n",
    "https://informatics.mccme.ru/mod/statements/view3.php?id=11250&chapterid=112344\n",
    "\n",
    "https://informatics.mccme.ru/mod/statements/view3.php?id=11250&chapterid=112344\n",
    "\n",
    "https://informatics.mccme.ru/mod/statements/view3.php?id=4163&chapterid=3829\n",
    "\n",
    "https://informatics.mccme.ru/mod/statements/view3.php?id=4163&chapterid=3835\n",
    "\n",
    "https://informatics.msk.ru/mod/statements/view3.php?id=208&chapterid=1460\n",
    "\n",
    "https://informatics.mccme.ru/mod/statements/view3.php?id=4163&chapterid=3851\n",
    "\n",
    "https://informatics.msk.ru/mod/statements/view3.php?id=208&chapterid=1456"
   ]
  }
 ],
 "metadata": {
  "kernelspec": {
   "display_name": "Python 3",
   "language": "python",
   "name": "python3"
  },
  "language_info": {
   "codemirror_mode": {
    "name": "ipython",
    "version": 3
   },
   "file_extension": ".py",
   "mimetype": "text/x-python",
   "name": "python",
   "nbconvert_exporter": "python",
   "pygments_lexer": "ipython3",
   "version": "3.6.2"
  }
 },
 "nbformat": 4,
 "nbformat_minor": 4
}
