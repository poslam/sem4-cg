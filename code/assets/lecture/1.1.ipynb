{
 "cells": [
  {
   "cell_type": "markdown",
   "metadata": {},
   "source": [
    "### Словарь"
   ]
  },
  {
   "cell_type": "markdown",
   "metadata": {},
   "source": [
    "Словарь - коллекция, где каждому значению соответствует ключ, который является может быть представлен любым неизменяемым типом"
   ]
  },
  {
   "cell_type": "code",
   "execution_count": null,
   "metadata": {},
   "outputs": [],
   "source": [
    "# инициализация через литерал\n",
    "a = {}\n",
    "print(a, type(a))\n",
    "a = {'key1': 'value1', 'key2': 'value2'}\n",
    "print(a)"
   ]
  },
  {
   "cell_type": "code",
   "execution_count": null,
   "metadata": {},
   "outputs": [],
   "source": [
    "# инициализация через функцию dict\n",
    "a = dict()\n",
    "print(a)\n",
    "a = dict(key1='value1', key2='value2')\n",
    "print(a)\n",
    "a = dict([(1, 2), ('3', 4)])\n",
    "print(a)"
   ]
  },
  {
   "cell_type": "code",
   "execution_count": null,
   "metadata": {
    "scrolled": true
   },
   "outputs": [],
   "source": [
    "# инициализация методом fromkeys\n",
    "a = dict.fromkeys(['a', 'b'])\n",
    "print(a)\n",
    "a = dict.fromkeys(['a', 'b'], 1)\n",
    "print(a)"
   ]
  },
  {
   "cell_type": "code",
   "execution_count": null,
   "metadata": {},
   "outputs": [],
   "source": [
    "# инициализация через генераторы\n",
    "a = {i: i ** 2 for i in range(10)}\n",
    "a[1]"
   ]
  },
  {
   "cell_type": "code",
   "execution_count": null,
   "metadata": {},
   "outputs": [],
   "source": [
    "# добавление\n",
    "a = {'key1': 'value1', 'key2': 'value2'}\n",
    "print(a)\n",
    "a['key2'] = 'value3'\n",
    "print(a)"
   ]
  },
  {
   "cell_type": "code",
   "execution_count": null,
   "metadata": {},
   "outputs": [],
   "source": [
    "# в качестве ключа может быть любой неизменяемый тип данных\n",
    "a[1] = 2\n",
    "a['2'] = 3\n",
    "a[(1, 2)] = 5\n",
    "a[0.75] = 8 # ключом может быть наде вещественное число, но делать так не рекомендуется из-за особенностей хранения вещественных чисел "
   ]
  },
  {
   "cell_type": "code",
   "execution_count": null,
   "metadata": {},
   "outputs": [],
   "source": [
    "# в качестве значения может выступать любой тип\n",
    "a[1] = [1, 2]\n",
    "a[2] = (1, 2)\n",
    "a[3] = {1, 2}\n",
    "print(a)\n",
    "a[1].append(1)\n",
    "print(a)\n",
    "# присвоение по новому ключу добаляет значение\n",
    "# по существующему ключу заменяет\n",
    "# при обращении к несуществующему ключу - ошибка\n"
   ]
  },
  {
   "cell_type": "code",
   "execution_count": null,
   "metadata": {},
   "outputs": [],
   "source": [
    "a = {False: True, '':1}\n",
    "a[3] = 1\n",
    "a"
   ]
  },
  {
   "cell_type": "code",
   "execution_count": null,
   "metadata": {
    "scrolled": true
   },
   "outputs": [],
   "source": [
    "# удаление\n",
    "#del a[1] # если ключа нет - ошибка\n",
    "#a.pop(2) # если ключа нет - ошибка\n",
    "print(a.pop(1, None)) # в случае отсутствия ключа вернет None\n"
   ]
  },
  {
   "cell_type": "code",
   "execution_count": null,
   "metadata": {
    "scrolled": true
   },
   "outputs": [],
   "source": [
    "# проверка на наличие ключа\n",
    "print(a)\n",
    "print(3 in a)\n",
    "a[6]"
   ]
  },
  {
   "cell_type": "code",
   "execution_count": null,
   "metadata": {},
   "outputs": [],
   "source": [
    "# кроме получения значения по индексу можно получить значение используя метод get()\n",
    "print(a.get(3))\n",
    "# если значения нет метод вернет None\n",
    "print(a.get(4))\n",
    "# можно явно указать, что будет возвращено в случае отсутствия ключа\n",
    "print(a.get(4, 0))"
   ]
  },
  {
   "cell_type": "markdown",
   "metadata": {},
   "source": [
    "#### Методы словарей"
   ]
  },
  {
   "cell_type": "code",
   "execution_count": null,
   "metadata": {},
   "outputs": [],
   "source": [
    "# метод keys() позволяет получить все ключи словаря\n",
    "print(list(a.keys()))"
   ]
  },
  {
   "cell_type": "code",
   "execution_count": null,
   "metadata": {},
   "outputs": [],
   "source": [
    "# метод values() вернет все значения словаря\n",
    "print(list(a.values()))"
   ]
  },
  {
   "cell_type": "code",
   "execution_count": null,
   "metadata": {
    "scrolled": true
   },
   "outputs": [],
   "source": [
    "# метод items() вернет каржеж пар (ключ, значение)\n",
    "print(list(a.items()))\n",
    "# удобно перебирать словарь в цикле используя данный метод\n",
    "for key, value in a.items():\n",
    "    print(f'{key}: {value}')"
   ]
  },
  {
   "cell_type": "code",
   "execution_count": null,
   "metadata": {
    "scrolled": true
   },
   "outputs": [],
   "source": [
    "# функция zip \n",
    "print(list(zip([1, 2, 3, 4], [4, 5, 6])))\n",
    "# удобно использовать при формировании словаря\n",
    "a = dict(zip(['key1', 'key2', 'key3'], ['value1', 'value2', 'value3']))\n",
    "print(a)\n",
    "# если списки разной длины, объединяет по минимальной длине"
   ]
  },
  {
   "cell_type": "markdown",
   "metadata": {},
   "source": [
    "Задача: частотный анализатор"
   ]
  },
  {
   "cell_type": "markdown",
   "metadata": {},
   "source": [
    "## Функции"
   ]
  },
  {
   "cell_type": "markdown",
   "metadata": {},
   "source": [
    "#### Объявление функции\n",
    "``` python\n",
    "def <имя функции>([аргументы]):\n",
    "    <тело функции>\n",
    "```\n",
    "Имя функции РЕР8 рекомендует называть маленькими буквами, а слова разделять сиволом подчеркивания\n",
    "\n",
    "Тело функции как и в циклах, условиях идет с отступом\n",
    "\n",
    "После функции РЕР8 рекомендует оставлять две пустые строчки"
   ]
  },
  {
   "cell_type": "code",
   "execution_count": null,
   "metadata": {},
   "outputs": [],
   "source": [
    "def say_hello():\n",
    "    print('hello')\n",
    "\n",
    "say_hello()"
   ]
  },
  {
   "cell_type": "code",
   "execution_count": null,
   "metadata": {},
   "outputs": [],
   "source": [
    "# передача в функцию аргумента\n",
    "def say_hello(name):\n",
    "    print('hello', name)\n",
    "\n",
    "say_hello('Vasya')"
   ]
  },
  {
   "cell_type": "code",
   "execution_count": null,
   "metadata": {},
   "outputs": [],
   "source": [
    "# перечада в качестве аргумента вызов функции\n",
    "print(input())\n",
    "\n",
    "def f1():\n",
    "    print('hello')\n",
    "def f2():\n",
    "    print('world')\n",
    "def f3(a, b):\n",
    "    print('!')\n",
    "    \n",
    "f3(f1(), f2())"
   ]
  },
  {
   "cell_type": "markdown",
   "metadata": {},
   "source": [
    "#### Возвращение значений"
   ]
  },
  {
   "cell_type": "code",
   "execution_count": null,
   "metadata": {},
   "outputs": [],
   "source": [
    "# Для возвращения значений используется оператор return\n",
    "# Если в функции он отсутствует, функция возвращает значение None\n",
    "print(print(1))\n",
    "\n",
    "def sqr(x):\n",
    "    return x ** 2\n",
    "\n",
    "print(sqr(10))"
   ]
  },
  {
   "cell_type": "code",
   "execution_count": null,
   "metadata": {},
   "outputs": [],
   "source": [
    "# Возвращение из функции нескольких значений\n",
    "def minmax(a):\n",
    "    return min(a), max(a) # идентично (min(a), max(a))\n",
    "\n",
    "a, b = minmax([1, 4, 45, 2, 38, 16])\n",
    "print(a, b)"
   ]
  },
  {
   "cell_type": "code",
   "execution_count": null,
   "metadata": {},
   "outputs": [],
   "source": [
    "# Когда в функции используется несколько операторов return позаботьтесь о том, чтобы они возвращали одинаковый тип и кол-во значений\n",
    "def get_coord(dimension):\n",
    "    if dimension == 2:\n",
    "        return 1, 2\n",
    "    else:\n",
    "        return 1, 2, 0\n",
    "print(get_coord(2))"
   ]
  },
  {
   "cell_type": "markdown",
   "metadata": {},
   "source": [
    "#### Области видимости переменных"
   ]
  },
  {
   "cell_type": "code",
   "execution_count": null,
   "metadata": {},
   "outputs": [],
   "source": [
    "def my_sum(x):\n",
    "    res = 0 #  переменные res, x - локальные, вне функции не доступны\n",
    "    for i in x:\n",
    "        res += i\n",
    "    return res\n",
    "\n",
    "a = [3, 1]\n",
    "print(my_sum(a))"
   ]
  },
  {
   "cell_type": "code",
   "execution_count": null,
   "metadata": {},
   "outputs": [],
   "source": [
    "def my_sum(x):\n",
    "    res = 0 #  переменная a - глобальная, доступна как внутри функции, так и за ее пределами\n",
    "    for i in a:\n",
    "        res += i\n",
    "    return res\n",
    "\n",
    "a = [3, 1]\n",
    "print(my_sum(a))"
   ]
  },
  {
   "cell_type": "code",
   "execution_count": null,
   "metadata": {},
   "outputs": [],
   "source": [
    "# вот почему работать с глобальными переменными плохо\n",
    "def my_sum(x):\n",
    "    res = 0 \n",
    "    for i in x:\n",
    "        res += i\n",
    "    return res\n",
    "\n",
    "a = [3, 1]\n",
    "print(my_sum([1, 2]))"
   ]
  },
  {
   "cell_type": "code",
   "execution_count": null,
   "metadata": {},
   "outputs": [],
   "source": [
    "# внутри функции переданный аргумент копирует id объекта, который мы в эту функцию передаем\n",
    "def my_sum(x):\n",
    "    print(id(x))\n",
    "    print(id(a))\n",
    "a = [3, 1]\n",
    "my_sum(a)"
   ]
  },
  {
   "cell_type": "code",
   "execution_count": null,
   "metadata": {},
   "outputs": [],
   "source": [
    "# при попытке присвоить значение глобальной переменной внутри функции она станет локальной\n",
    "def my_sum(x):\n",
    "    \n",
    "    a = x.copy()\n",
    "    a.append(1)\n",
    "    res = 0\n",
    "    for i in a:\n",
    "        res += i\n",
    "    return res\n",
    "\n",
    "a = [3, 1]\n",
    "print(my_sum(a))"
   ]
  },
  {
   "cell_type": "markdown",
   "metadata": {},
   "source": [
    "Общее правило\n",
    "\n",
    "внутри функции видны все переменные этой функции и все переменные, которые определены снаружи\n",
    "\n",
    "снаружи не видны переменные, которые определены внутри"
   ]
  },
  {
   "cell_type": "markdown",
   "metadata": {},
   "source": [
    "#### Функции с переменным числом аргументов"
   ]
  },
  {
   "cell_type": "code",
   "execution_count": 1,
   "metadata": {},
   "outputs": [
    {
     "name": "stdout",
     "output_type": "stream",
     "text": [
      "1 3\n"
     ]
    }
   ],
   "source": [
    "# Распаковка значений\n",
    "# распаковывать можно любые последовательности (списки, множества, словари (по ключам), map, range)\n",
    "a, b = {1:3, 3:4}\n",
    "print(a, b)"
   ]
  },
  {
   "cell_type": "code",
   "execution_count": 2,
   "metadata": {},
   "outputs": [
    {
     "name": "stdout",
     "output_type": "stream",
     "text": [
      "1 2 [3, 4, 5]\n"
     ]
    }
   ],
   "source": [
    "# при несоответствии количества переменных с количеством значений в последовательности будем иметь ошибку\n",
    "# избежать это можно запаковав оставшиеся переменные в одну переменную\n",
    "a, b, *other = 1, 2, 3, 4, 5\n",
    "print(a, b, other)"
   ]
  },
  {
   "cell_type": "code",
   "execution_count": 3,
   "metadata": {
    "scrolled": true
   },
   "outputs": [
    {
     "name": "stdout",
     "output_type": "stream",
     "text": [
      "1 2 [3, 4, 5] 6\n"
     ]
    }
   ],
   "source": [
    "# запаковать можно только в одну переменную\n",
    "# местоположение этой меременной может быть не только в конце\n",
    "a, b, *other, c = 1, 2, 3, 4, 5, 6\n",
    "print(a, b, other, c)"
   ]
  },
  {
   "cell_type": "code",
   "execution_count": 4,
   "metadata": {},
   "outputs": [
    {
     "name": "stdout",
     "output_type": "stream",
     "text": [
      "1 2 [3]\n"
     ]
    }
   ],
   "source": [
    "# можем запаковать один элемент\n",
    "a, b, *other = 1, 2, 3\n",
    "print(a, b, other)"
   ]
  },
  {
   "cell_type": "code",
   "execution_count": 5,
   "metadata": {},
   "outputs": [
    {
     "name": "stdout",
     "output_type": "stream",
     "text": [
      "1 2 []\n"
     ]
    }
   ],
   "source": [
    "# если запаковывать нечего, получим пустой список\n",
    "a, b, *other = 1, 2\n",
    "print(a, b, other)"
   ]
  },
  {
   "cell_type": "code",
   "execution_count": 6,
   "metadata": {},
   "outputs": [
    {
     "name": "stdout",
     "output_type": "stream",
     "text": [
      "1 2 3 4\n"
     ]
    }
   ],
   "source": [
    "# вложенные списки тоже можем распаковывать\n",
    "a, [b, c], d = 1, [2, 3], 4\n",
    "print(a, b, c, d)"
   ]
  },
  {
   "cell_type": "code",
   "execution_count": 10,
   "metadata": {},
   "outputs": [
    {
     "name": "stdout",
     "output_type": "stream",
     "text": [
      "1 2 3\n",
      "3 2\n"
     ]
    }
   ],
   "source": [
    "# если функция принимает несколько аргументов, которые содержутся в нашей последовательноти,\n",
    "# то мы можем явно распакавать их\n",
    "# например, функция print принимает неограниченное количество аргументов\n",
    "# в этом случае элементы списка станут аргументами функции\n",
    "a = [1, 2, 3]\n",
    "print(*a)\n",
    "[[a, b]] = [[3, 2]]\n",
    "print(a, b)"
   ]
  },
  {
   "cell_type": "markdown",
   "metadata": {},
   "source": [
    "#### Аргументы функции по умолчанию"
   ]
  },
  {
   "cell_type": "code",
   "execution_count": 12,
   "metadata": {
    "scrolled": true
   },
   "outputs": [
    {
     "name": "stdout",
     "output_type": "stream",
     "text": [
      "1024\n",
      "25\n"
     ]
    }
   ],
   "source": [
    "def pow(x, y = 2):\n",
    "    a = 1\n",
    "    for i in range(y):\n",
    "        a *= x\n",
    "    return a\n",
    "\n",
    "print(pow(2, 10))\n",
    "print(pow(5))\n",
    "n, m = [int(i) for i in input().split()]\n",
    "mass = [[int(i) for i in input().split()] for i in range(n)]"
   ]
  },
  {
   "cell_type": "markdown",
   "metadata": {},
   "source": [
    "#### Позиционные и именованные аргументы"
   ]
  },
  {
   "cell_type": "code",
   "execution_count": 21,
   "metadata": {
    "scrolled": false
   },
   "outputs": [
    {
     "name": "stdout",
     "output_type": "stream",
     "text": [
      "my_sum(2, 3) =  5\n",
      "my_sum(a=2, b=3) =  5\n",
      "my_sum(b=2, a=3) =  5\n",
      "my_sum(2, b=3) =  5\n",
      "my_sum(*a) =  5\n",
      "my_sum(**b) =  5\n"
     ]
    }
   ],
   "source": [
    "# При вызове функции мы можем как просто передать аргументы в функцию в определенном строгом порядке,\n",
    "# так и указав конкретное значение конкретной переменной \n",
    "def my_sum(a, b):\n",
    "    return a + b\n",
    "\n",
    "print('my_sum(2, 3) = ', my_sum(2, 3))\n",
    "print('my_sum(a=2, b=3) = ', my_sum(a=2, b=3))\n",
    "print('my_sum(b=2, a=3) = ', my_sum(b=2, a=3))\n",
    "print('my_sum(2, b=3) = ', my_sum(2, b=3)) # важно, чтобы соблюдался порядок, сначала нужно писать позиционные аргументы, затем именованные\n",
    "# print(my_sum(a=2, 3)) # ошибка\n",
    "\n",
    "# если мы знаем, что наша функция принимает два аргумента и имеем список так же из двух элементов,\n",
    "# значения которого хотим передать, то мы можем распаковать наш список в функцию\n",
    "a = [2, 3]\n",
    "print('my_sum(*a) = ', my_sum(*a))\n",
    "\n",
    "# если у нас есть словарь с ключами, которые соответствуют переменных в функции, то его мы так же можем распаковать\n",
    "b = {'a': 2, 'b': 3}\n",
    "print('my_sum(**b) = ', my_sum(**b))"
   ]
  },
  {
   "cell_type": "code",
   "execution_count": null,
   "metadata": {},
   "outputs": [],
   "source": [
    "# Аргументы по умолчанию\n",
    "def my_sum(a, b):\n",
    "    return a + b\n",
    "\n",
    "def my_sum(a, b=2):\n",
    "    return a + b\n",
    "\n",
    "def my_sum(a=0, b=0):\n",
    "    return a + b\n",
    "\n",
    "# def my_sum(a=0, b):\n",
    "#     return a + b"
   ]
  },
  {
   "cell_type": "code",
   "execution_count": null,
   "metadata": {
    "scrolled": false
   },
   "outputs": [],
   "source": [
    "# Можно принимать в функции неограниченное количество аргументов\n",
    "def my_sum(*args):\n",
    "    a = 0\n",
    "    for arg in args:\n",
    "        a += arg\n",
    "    return a\n",
    "\n",
    "print(my_sum())\n",
    "print(my_sum(1))\n",
    "print(my_sum(1, 2))\n",
    "print(my_sum(1, 2, 3))\n",
    "a = (1, 2, 3, 4, 5, 6)\n",
    "print(my_sum(*a))"
   ]
  },
  {
   "cell_type": "code",
   "execution_count": null,
   "metadata": {},
   "outputs": [],
   "source": [
    "def my_sum(first, *args):\n",
    "    a = first\n",
    "    for arg in args:\n",
    "        a += arg\n",
    "    return a"
   ]
  },
  {
   "cell_type": "code",
   "execution_count": null,
   "metadata": {
    "scrolled": true
   },
   "outputs": [],
   "source": [
    "# Для именованных есть похожий механизм\n",
    "def check(score, **kwargs):\n",
    "    print(score)\n",
    "    for k, v in kwargs.items():\n",
    "        print(f'{k}: {v}')\n",
    "\n",
    "check(100, petya=65, vasya=56, kolya=55, nikita=11)\n",
    "    "
   ]
  },
  {
   "cell_type": "code",
   "execution_count": null,
   "metadata": {},
   "outputs": [],
   "source": [
    "def fun(pos_args, default_pos_args, *args, keyword_args, **kwargs):\n",
    "    pass # оператор-заглушка"
   ]
  },
  {
   "cell_type": "code",
   "execution_count": null,
   "metadata": {},
   "outputs": [],
   "source": [
    "def fun(a, b = 1, *args, c = 10, d, **kwargs):\n",
    "    print(a, b, c, d, args, kwargs)\n",
    "\n",
    "fun(1, d=15)"
   ]
  },
  {
   "cell_type": "markdown",
   "metadata": {},
   "source": [
    "#### Лямбда-функции"
   ]
  },
  {
   "cell_type": "code",
   "execution_count": 23,
   "metadata": {
    "scrolled": true
   },
   "outputs": [
    {
     "name": "stdout",
     "output_type": "stream",
     "text": [
      "<bound method Kernel.raw_input of <ipykernel.ipkernel.IPythonKernel object at 0x10e7167f0>> 4354023288\n",
      "hello\n"
     ]
    }
   ],
   "source": [
    "print(input, id(print)) # input - имяпеременной, которая хранит объект\n",
    "print2 = print\n",
    "print2('hello')"
   ]
  },
  {
   "cell_type": "code",
   "execution_count": 24,
   "metadata": {
    "scrolled": false
   },
   "outputs": [
    {
     "name": "stdout",
     "output_type": "stream",
     "text": [
      "язык\n"
     ]
    }
   ],
   "source": [
    "# Функции высшего порядка\n",
    "# filter(function, sequence)\n",
    "def is_long(word):\n",
    "    return len(word) < 6\n",
    "\n",
    "words = ['Python', 'высокоуровневый', 'язык', 'программирования']\n",
    "print(*filter(is_long, words))\n"
   ]
  },
  {
   "cell_type": "code",
   "execution_count": 25,
   "metadata": {},
   "outputs": [
    {
     "name": "stdout",
     "output_type": "stream",
     "text": [
      "язык\n"
     ]
    }
   ],
   "source": [
    "# Лямбда-функции - конструкция, которая позволяет создавать безымянные функциии\n",
    "# синтаксис - lambda <аргументы>: <выражение>\n",
    "print(*filter(lambda word: len(word) < 6, words))"
   ]
  },
  {
   "cell_type": "markdown",
   "metadata": {},
   "source": [
    "задача: свой фильтр"
   ]
  },
  {
   "cell_type": "code",
   "execution_count": 26,
   "metadata": {
    "scrolled": false
   },
   "outputs": [
    {
     "name": "stdout",
     "output_type": "stream",
     "text": [
      "<function <lambda> at 0x10e9f9d90>\n",
      "True\n"
     ]
    }
   ],
   "source": [
    "# Лямбда-функция - полноценная функция\n",
    "lambda_fun = lambda word: len(word) < 6\n",
    "print(lambda_fun)\n",
    "print(lambda_fun('hello'))"
   ]
  },
  {
   "cell_type": "code",
   "execution_count": null,
   "metadata": {},
   "outputs": [],
   "source": [
    "# Функции высшего порядка\n",
    "# map(function, sequence)\n",
    "# задача: квадраты\n"
   ]
  },
  {
   "cell_type": "code",
   "execution_count": 28,
   "metadata": {},
   "outputs": [
    {
     "name": "stdout",
     "output_type": "stream",
     "text": [
      "['язык']\n"
     ]
    }
   ],
   "source": [
    "# итерируемые объекты\n",
    "# два типа: итераторы и коллекции\n",
    "# итератор позволяет перебирать элементы не храня всех значений, а лишь только начальное, последнее и текущее\n",
    "# коллекция создают итератор по своим элементам\n",
    "print(list(filter(lambda word: len(word) < 6, words)))"
   ]
  },
  {
   "cell_type": "code",
   "execution_count": null,
   "metadata": {
    "scrolled": true
   },
   "outputs": [],
   "source": [
    "sum([x ** 2 for x in range(50 * 1000 * 1000)])"
   ]
  },
  {
   "cell_type": "code",
   "execution_count": null,
   "metadata": {},
   "outputs": [],
   "source": [
    "sum(map(lambda x: x ** 2, range(50 * 1000 * 1000)))"
   ]
  },
  {
   "cell_type": "code",
   "execution_count": 30,
   "metadata": {},
   "outputs": [],
   "source": [
    "import random\n",
    "# max, min, sorted\n",
    "a = [random.randint(0, 100) for x in range(25)]"
   ]
  },
  {
   "cell_type": "code",
   "execution_count": 33,
   "metadata": {
    "scrolled": true
   },
   "outputs": [
    {
     "name": "stdout",
     "output_type": "stream",
     "text": [
      "[14, 53, 36, 69, 86, 25, 85, 73, 95, 49, 83, 73, 100, 27, 92, 8, 64, 0, 27, 1, 34, 11, 96, 57, 2]\n",
      "0\n",
      "100\n",
      "[0, 1, 2, 8, 11, 14, 25, 27, 27, 34, 36, 49, 53, 57, 64, 69, 73, 73, 83, 85, 86, 92, 95, 96, 100]\n"
     ]
    }
   ],
   "source": [
    "\n",
    "print(a)\n",
    "print(min(a))\n",
    "print(max(a))\n",
    "print(sorted(a))"
   ]
  },
  {
   "cell_type": "code",
   "execution_count": 39,
   "metadata": {
    "scrolled": true
   },
   "outputs": [
    {
     "name": "stdout",
     "output_type": "stream",
     "text": [
      "[100, 96, 92, 86, 64, 36, 34, 14, 8, 2, 0, 95, 85, 83, 73, 73, 69, 57, 53, 49, 27, 27, 25, 11, 1]\n"
     ]
    }
   ],
   "source": [
    "print(sorted(a, key=lambda x: (x % 2 == 1, -x)))"
   ]
  },
  {
   "cell_type": "code",
   "execution_count": 42,
   "metadata": {
    "scrolled": true
   },
   "outputs": [
    {
     "name": "stdout",
     "output_type": "stream",
     "text": [
      "['Джентльмены', 2020, 8.26]\n",
      "['Паразиты', 2019, 8.2]\n",
      "['Джокер', 2019, 8.28]\n",
      "['Дело Ричарда Джуэлла', 2019, 8.3]\n",
      "['1917', 2019, 8.35]\n",
      "['Ford против Ferrari', 2019, 8.47]\n",
      "['Достать ножи', 2019, 8.73]\n"
     ]
    }
   ],
   "source": [
    "films = [\n",
    "    ['Достать ножи', 2019, 8.73],\n",
    "    ['Ford против Ferrari', 2019, 8.47],\n",
    "    ['1917', 2019, 8.35],\n",
    "    ['Дело Ричарда Джуэлла', 2019, 8.30],\n",
    "    ['Джокер', 2019, 8.28],\n",
    "    ['Джентльмены', 2020, 8.26],\n",
    "    ['Паразиты', 2019, 8.20]\n",
    "]\n",
    "\n",
    "def f()\n",
    "\n",
    "print(*sorted(films, key=lambda x: (-x[1], x[2])), sep='\\n')"
   ]
  },
  {
   "cell_type": "code",
   "execution_count": null,
   "metadata": {},
   "outputs": [],
   "source": [
    "# передача функций в качестве ключа\n",
    "# map(int, input().split())\n",
    "# map(str.lower, input().split())"
   ]
  },
  {
   "cell_type": "code",
   "execution_count": 46,
   "metadata": {},
   "outputs": [
    {
     "name": "stdout",
     "output_type": "stream",
     "text": [
      "True\n",
      "False\n",
      "False\n",
      "True\n",
      "False\n",
      "[True, False, False, False, False, True, False, False, False, False]\n",
      "True\n"
     ]
    }
   ],
   "source": [
    "# функции all и any\n",
    "# функция all проверяет, чтобы все элементы при переводе в тип bool были True\n",
    "# функция any проверяет, чтобы хотябы один элемент при переводе в тип bool был True\n",
    "# если условие выполняется функция возвращает True, иначе False\n",
    "print(all([1, 2, 3, 4, 5, 6, 7, 8, 9]))\n",
    "print(all([1, 2, 3, 4, 5, 6, 7, 8, 0]))\n",
    "print(all([1, 2, 3, 4, 5, 6, 7, 8, []]))\n",
    "\n",
    "print(any((set(), [], {}, 0, 1)))\n",
    "print(any((set(), [], {}, 0, False)))\n",
    "\n",
    "a = [x % 5 == 0 for x in range(10)]\n",
    "print(a)\n",
    "print(any(a))\n"
   ]
  },
  {
   "cell_type": "markdown",
   "metadata": {},
   "source": [
    "#### Задачи"
   ]
  },
  {
   "cell_type": "markdown",
   "metadata": {},
   "source": [
    "1. Отличники\n",
    "\n",
    "Учитель проверял контрольные работы по информатике в нескольких классах и решил убедиться, что в каждом классе есть хотя бы один отличник.\n",
    "Помогите учителю осуществить такую проверку.\n",
    "\n",
    "Формат ввода\n",
    "\n",
    "На первой строке вводится количество классов.\n",
    "Затем для каждого класса вводится блок информации вида:\n",
    "На первой строке – N – количество учеников в классе.\n",
    "Далее вводится N строк вида: «Фамилия Оценка»\n",
    "\n",
    "Формат вывода\n",
    "\n",
    "«ДА» если в каждом классе есть отличник, и «НЕТ» в противном случае.\n",
    "\n",
    "Пример\n",
    "\n",
    "Ввод\t\n",
    "\n",
    "4\n",
    "3\n",
    "Иванов 4\n",
    "Петров 5\n",
    "Сидоров 3\n",
    "2\n",
    "Кузнецов 5\n",
    "Петренко 5\n",
    "3\n",
    "Лебедев 4\n",
    "Иваненко 4\n",
    "Смирнов 5\n",
    "2\n",
    "Овчинников 4\n",
    "Козлов 5\n",
    "\n",
    "Вывод ДА\n",
    "\n",
    "через all any\n",
    "\n",
    "2. Гематрия\n",
    "Словесной гематрией называется сумма номеров (кодов, числовых значений) входящих в слово букв.\n",
    "На вход программы поступает список английских слов. На одной строке записано одно слово, количество слов неизвестно.\n",
    "\n",
    "Для вычисления гематрии поступим следующим образом:\n",
    "\n",
    "Переведём слово в верхний регистр.\n",
    "\n",
    "Числовое значение буквы вычислим как КодБуквы - КодБуквыA + 1\n",
    "\n",
    "Выведите полученные слова в порядке возрастания их гематрии. Если для каких-то слов гематрия совпадает, то их выводите в алфавитном порядке.\n",
    "\n",
    "3. Анаграммы"
   ]
  },
  {
   "cell_type": "code",
   "execution_count": null,
   "metadata": {},
   "outputs": [],
   "source": []
  }
 ],
 "metadata": {
  "kernelspec": {
   "display_name": "Python 3",
   "language": "python",
   "name": "python3"
  },
  "language_info": {
   "codemirror_mode": {
    "name": "ipython",
    "version": 3
   },
   "file_extension": ".py",
   "mimetype": "text/x-python",
   "name": "python",
   "nbconvert_exporter": "python",
   "pygments_lexer": "ipython3",
   "version": "3.6.2"
  }
 },
 "nbformat": 4,
 "nbformat_minor": 2
}
